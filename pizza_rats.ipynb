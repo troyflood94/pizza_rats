{
 "cells": [
  {
   "cell_type": "code",
   "execution_count": null,
   "metadata": {},
   "outputs": [],
   "source": [
    "#import dependencies\n",
    "import pandas as pd\n",
    "import matplotlib.pyplot as plt\n",
    "import requests\n",
    "from pathlib import Path"
   ]
  },
  {
   "cell_type": "code",
   "execution_count": null,
   "metadata": {},
   "outputs": [],
   "source": [
    "#create file path and read the CSV with pandas.\n",
    "restaruantpath= Path(\"csv_folder/restaurant_data.csv\")\n",
    "restaruantfile=pd.read_csv(restaruantpath,encoding=\"UTF-8\")\n",
    "restaruantfile.head()\n"
   ]
  },
  {
   "cell_type": "code",
   "execution_count": null,
   "metadata": {},
   "outputs": [],
   "source": [
    "#Insert columns we want to keep as a list object, then copy just those columns to a new dataframe.\n",
    "restaurants_to_keep=['BORO', 'ZIPCODE','CUISINE DESCRIPTION','INSPECTION DATE','GRADE']\n",
    "restaruantfile=restaruantfile[restaurants_to_keep].copy()\n",
    "restaruantfile.head()"
   ]
  },
  {
   "cell_type": "code",
   "execution_count": null,
   "metadata": {},
   "outputs": [],
   "source": [
    "#drop Nans, fix formatting for date, change column name, fill nans of zipcode, and cast zip as integer to remove weird decimal.\n",
    "clean_grade_df = restaruantfile.dropna(subset=['GRADE'])\n",
    "clean_grade_df['INSPECTION DATE'] = pd.to_datetime(clean_grade_df['INSPECTION DATE']).dt.date\n",
    "clean_grade_df['Date']=clean_grade_df['INSPECTION DATE']\n",
    "clean_grade_df['ZIPCODE'].fillna(-1,inplace=True)\n",
    "clean_grade_df['ZIPCODE'] = clean_grade_df['ZIPCODE'].astype(int)\n",
    "clean_grade_df"
   ]
  },
  {
   "cell_type": "code",
   "execution_count": null,
   "metadata": {},
   "outputs": [],
   "source": [
    "#getting unique value lists which should be helpful later when making calls. this syntax can work for any column.\n",
    "clean_grade_df['CUISINE DESCRIPTION'].unique().tolist()\n",
    "clean_grade_df['BORO'].unique().tolist()"
   ]
  },
  {
   "cell_type": "code",
   "execution_count": null,
   "metadata": {},
   "outputs": [],
   "source": [
    "#the code worked but i think we will have to run the dates through that filter code to get it sorted. I am holdingoff until class to do this.\n",
    "clean_grade_df.sort_values('INSPECTION DATE',ascending=False)\n",
    "clean_grade_df.head()"
   ]
  },
  {
   "cell_type": "markdown",
   "metadata": {},
   "source": [
    "BEGIN RAT DATA DO NOT PUT PIZZA DATA BELOW"
   ]
  },
  {
   "cell_type": "code",
   "execution_count": null,
   "metadata": {},
   "outputs": [],
   "source": [
    "#create filepath and read the CSV with pandas.\n",
    "ratpath= Path(\"csv_folder/rat_sightings.csv\")\n",
    "ratfile=pd.read_csv(ratpath,encoding=\"UTF-8\")\n",
    "ratfile.head()"
   ]
  },
  {
   "cell_type": "code",
   "execution_count": null,
   "metadata": {},
   "outputs": [],
   "source": [
    "#came up with way to easily filter the main DF by columns. This can easily be amended by adding column titles to columns_to_keep and rerunning the block.\n",
    "#i took facility type out Facililty Type because it is only Nans. scroll down to see output confirming.\n",
    "columns_to_keep=['Borough','Incident Zip','Created Date','Location Type','City','Status','Complaint Type']\n",
    "clean_rats_df=ratfile[columns_to_keep].copy()\n",
    "clean_rats_df"
   ]
  },
  {
   "cell_type": "code",
   "execution_count": null,
   "metadata": {},
   "outputs": [],
   "source": [
    "#fixed the zip code formatting, had to fill NaNs but we can discuss dropping them maybe? Im having trouble picturing how it will effect the final project.\n",
    "#next we need to run that code on the date here, i cant seem to locate it\n",
    "clean_rats_df['Incident Zip'].fillna(-1,inplace=True)\n",
    "clean_rats_df['Incident Zip'] = clean_rats_df['Incident Zip'].astype(int)\n",
    "clean_rats_df['Created Date'] = pd.to_datetime(clean_rats_df['Created Date']).dt.date\n",
    "clean_rats_df['Date']=clean_rats_df['Created Date']\n",
    "clean_rats_df['ZIPCODE']=clean_rats_df['Incident Zip']\n",
    "clean_rats_df"
   ]
  },
  {
   "cell_type": "code",
   "execution_count": null,
   "metadata": {},
   "outputs": [],
   "source": [
    "#merged df on date. Might not use.\n",
    "merged_df=pd.merge(clean_grade_df,clean_rats_df, on='Date')\n",
    "\n"
   ]
  },
  {
   "cell_type": "code",
   "execution_count": null,
   "metadata": {},
   "outputs": [],
   "source": [
    "#merged df on ZIPCODE. Again, probably wont use\n",
    "zip_merge=pd.merge(clean_grade_df,clean_rats_df, on='ZIPCODE')"
   ]
  },
  {
   "cell_type": "code",
   "execution_count": null,
   "metadata": {},
   "outputs": [],
   "source": [
    "clean_rats_df.columns"
   ]
  },
  {
   "cell_type": "code",
   "execution_count": null,
   "metadata": {},
   "outputs": [],
   "source": [
    "gradecounts= clean_grade_df.groupby(['BORO', 'GRADE']).size().reset_index(name='count')\n",
    "\n",
    "Boroughs = gradecounts['BORO']\n",
    "counts = gradecounts['count']\n",
    "grades = gradecounts['GRADE']\n",
    "\n",
    "transposecounts = gradecounts.pivot(index='BORO', columns='GRADE', values='count').fillna(0)\n",
    "\n",
    "transposecounts.plot(kind='bar', stacked=True)\n",
    "plt.xlabel('Borough')\n",
    "plt.ylabel('Number of Restaurant Grades')\n",
    "plt.title('Number of Restaurant Grades by Borough, 2010-2017')\n",
    "plt.xticks(rotation=0) \n",
    "plt.tight_layout()\n",
    "plt.show()"
   ]
  },
  {
   "cell_type": "code",
   "execution_count": null,
   "metadata": {},
   "outputs": [],
   "source": [
    "clean_rats_df['Complaint Type'].value_counts()"
   ]
  },
  {
   "cell_type": "code",
   "execution_count": null,
   "metadata": {},
   "outputs": [],
   "source": [
    "ratcounting=  clean_rats_df.groupby(['Borough']).size().reset_index(name='count')\n",
    "\n",
    "#ratboroughs = ratcounting['Borough']\n",
    "#ratcounts = ratcounting.groupby('Borough').count()['Complaint Type']\n",
    "\n",
    "\n",
    "#rattransposecounts = ratcounting.pivot(index='Borough', columns=ratboroughs, values=ratcounts).fillna(0)\n",
    "\n",
    "ratcounting.plot(kind='bar', x='Borough', y='count')\n",
    "plt.xlabel('Borough')\n",
    "plt.ylabel('Number of Rat Sightings')\n",
    "plt.title('Number of Rat Sightings by Borough, 2010-2017')\n",
    "plt.xticks(rotation=0) \n",
    "plt.tight_layout()\n",
    "plt.show()"
   ]
  },
  {
   "cell_type": "code",
   "execution_count": null,
   "metadata": {},
   "outputs": [],
   "source": [
    "#consider per capita data. Find population and divide the rat sightings by the number of people.\n",
    "\n"
   ]
  },
  {
   "cell_type": "code",
   "execution_count": null,
   "metadata": {},
   "outputs": [],
   "source": [
    "borough_pops=pd.Series([{'BRONX':1471160},\n",
    "                {'BROOKLYN':2736074},\n",
    "                {'MANHATTAN':1694251},\n",
    "                {'QUEENS':2405464},\n",
    "                {'STATEN ISLAND':495747}])\n",
    "borough_pops"
   ]
  },
  {
   "cell_type": "code",
   "execution_count": null,
   "metadata": {},
   "outputs": [],
   "source": [
    "dict_lis=[{'BRONX':1471160},\n",
    "                {'BROOKLYN':2736074},\n",
    "                {'MANHATTAN':1694251},\n",
    "                {'QUEENS':2405464},\n",
    "                {'STATEN ISLAND':495747}]"
   ]
  },
  {
   "cell_type": "code",
   "execution_count": null,
   "metadata": {},
   "outputs": [],
   "source": [
    "[dict_lis]"
   ]
  },
  {
   "cell_type": "code",
   "execution_count": null,
   "metadata": {},
   "outputs": [],
   "source": [
    "borough_count=clean_rats_df['Borough'].value_counts()\n",
    "borough_count.pop('Unspecified')"
   ]
  },
  {
   "cell_type": "code",
   "execution_count": null,
   "metadata": {},
   "outputs": [],
   "source": [
    "borough_count['BROOKLYN']"
   ]
  },
  {
   "cell_type": "code",
   "execution_count": null,
   "metadata": {},
   "outputs": [],
   "source": [
    "?pd.Series"
   ]
  }
 ],
 "metadata": {
  "kernelspec": {
   "display_name": "base",
   "language": "python",
   "name": "python3"
  },
  "language_info": {
   "codemirror_mode": {
    "name": "ipython",
    "version": 3
   },
   "file_extension": ".py",
   "mimetype": "text/x-python",
   "name": "python",
   "nbconvert_exporter": "python",
   "pygments_lexer": "ipython3",
   "version": "3.12.3"
  }
 },
 "nbformat": 4,
 "nbformat_minor": 2
}
